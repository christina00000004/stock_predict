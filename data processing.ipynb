{
 "cells": [
  {
   "cell_type": "code",
   "metadata": {
    "ExecuteTime": {
     "end_time": "2025-07-19T22:45:38.725937Z",
     "start_time": "2025-07-19T22:45:38.721340Z"
    }
   },
   "source": [
    "import os\n",
    "from datetime import datetime, timedelta\n",
    "import json\n",
    "import torch\n",
    "import pandas as pd\n",
    "import numpy as np\n",
    "from importlib import reload\n",
    "from tqdm.notebook import tqdm\n",
    "from tqdm import tqdm\n",
    "import matplotlib.pyplot as plt"
   ],
   "outputs": [],
   "execution_count": 33
  },
  {
   "cell_type": "code",
   "metadata": {
    "ExecuteTime": {
     "end_time": "2025-07-21T06:14:08.207545Z",
     "start_time": "2025-07-21T06:14:06.738403Z"
    }
   },
   "source": [
    "path = 'stocknet-dataset/tweet/raw/'\n",
    "companies = sorted(os.listdir(path))\n",
    "len(companies)"
   ],
   "outputs": [
    {
     "ename": "NameError",
     "evalue": "name 'os' is not defined",
     "output_type": "error",
     "traceback": [
      "\u001B[1;31m---------------------------------------------------------------------------\u001B[0m",
      "\u001B[1;31mNameError\u001B[0m                                 Traceback (most recent call last)",
      "Cell \u001B[1;32mIn[1], line 2\u001B[0m\n\u001B[0;32m      1\u001B[0m path \u001B[38;5;241m=\u001B[39m \u001B[38;5;124m'\u001B[39m\u001B[38;5;124mstocknet-dataset/tweet/raw/\u001B[39m\u001B[38;5;124m'\u001B[39m\n\u001B[1;32m----> 2\u001B[0m companies \u001B[38;5;241m=\u001B[39m \u001B[38;5;28msorted\u001B[39m(\u001B[43mos\u001B[49m\u001B[38;5;241m.\u001B[39mlistdir(path))\n\u001B[0;32m      3\u001B[0m \u001B[38;5;28mlen\u001B[39m(companies)\n",
      "\u001B[1;31mNameError\u001B[0m: name 'os' is not defined"
     ]
    }
   ],
   "execution_count": 1
  },
  {
   "cell_type": "markdown",
   "metadata": {},
   "source": [
    "## stats Processing"
   ]
  },
  {
   "cell_type": "code",
   "metadata": {
    "ExecuteTime": {
     "end_time": "2025-07-21T06:14:08.289317600Z",
     "start_time": "2025-07-19T22:45:41.571355Z"
    }
   },
   "source": [
    "#生成从 2014-01-01 到 2016-01-01 的所有日期集合，并统计总共有多少天\n",
    "start_date_str = '2014-01-01'\n",
    "end_date_str = '2016-01-01'\n",
    "start_date = datetime.strptime(start_date_str, \"%Y-%m-%d\")\n",
    "end_date = datetime.strptime(end_date_str, \"%Y-%m-%d\")\n",
    "delta = end_date - start_date\n",
    "all_dates = set([str((start_date + timedelta(days=i)).date()) for i in range(delta.days + 1)])\n",
    "len(all_dates)"
   ],
   "outputs": [
    {
     "data": {
      "text/plain": [
       "731"
      ]
     },
     "execution_count": 35,
     "metadata": {},
     "output_type": "execute_result"
    }
   ],
   "execution_count": 35
  },
  {
   "cell_type": "code",
   "metadata": {
    "ExecuteTime": {
     "end_time": "2025-07-21T06:14:08.391533100Z",
     "start_time": "2025-07-19T22:45:42.916099Z"
    }
   },
   "source": [
    "#加载每个公司的股票价格数据（仅在 2014-01-01 至 2016-01-01 区间内），填补缺失日期，并收集特定列数据（Adj Close, High, Low）为一个 NumPy 数组。\n",
    "path = 'stocknet-dataset/price/raw/'\n",
    "\n",
    "all_timeseries = []\n",
    "for company in tqdm(companies):\n",
    "    df = pd.read_csv(path + company + '.csv')\n",
    "    df = df[(df['Date'] >= start_date_str) & (df['Date'] <= end_date_str)]\n",
    "    temp_df = pd.DataFrame(columns=df.columns)\n",
    "    temp_df['Date'] = pd.Series(list(all_dates.difference(set(df['Date']))))\n",
    "    temp_df.fillna(0, inplace=True)\n",
    "    df = pd.concat([df, temp_df])\n",
    "    df = df.sort_values(by='Date', ascending=True)\n",
    "    all_timeseries += [df[['Adj Close', 'High', 'Low']].values]\n",
    "    #从 df 中提取三列：'Adj Close'（复权收盘价）、'High'（最高价）、'Low'（最低价）\n",
    "\n",
    "all_timeseries = np.stack(all_timeseries)\n",
    "all_timeseries.shape"
   ],
   "outputs": [
    {
     "name": "stderr",
     "output_type": "stream",
     "text": [
      "  0%|          | 0/87 [00:00<?, ?it/s]C:\\Users\\MECHREVO\\AppData\\Local\\Temp\\ipykernel_891784\\3587734154.py:10: FutureWarning: Downcasting object dtype arrays on .fillna, .ffill, .bfill is deprecated and will change in a future version. Call result.infer_objects(copy=False) instead. To opt-in to the future behavior, set `pd.set_option('future.no_silent_downcasting', True)`\n",
      "  temp_df.fillna(0, inplace=True)\n",
      "C:\\Users\\MECHREVO\\AppData\\Local\\Temp\\ipykernel_891784\\3587734154.py:10: FutureWarning: Downcasting object dtype arrays on .fillna, .ffill, .bfill is deprecated and will change in a future version. Call result.infer_objects(copy=False) instead. To opt-in to the future behavior, set `pd.set_option('future.no_silent_downcasting', True)`\n",
      "  temp_df.fillna(0, inplace=True)\n",
      "C:\\Users\\MECHREVO\\AppData\\Local\\Temp\\ipykernel_891784\\3587734154.py:10: FutureWarning: Downcasting object dtype arrays on .fillna, .ffill, .bfill is deprecated and will change in a future version. Call result.infer_objects(copy=False) instead. To opt-in to the future behavior, set `pd.set_option('future.no_silent_downcasting', True)`\n",
      "  temp_df.fillna(0, inplace=True)\n",
      "C:\\Users\\MECHREVO\\AppData\\Local\\Temp\\ipykernel_891784\\3587734154.py:10: FutureWarning: Downcasting object dtype arrays on .fillna, .ffill, .bfill is deprecated and will change in a future version. Call result.infer_objects(copy=False) instead. To opt-in to the future behavior, set `pd.set_option('future.no_silent_downcasting', True)`\n",
      "  temp_df.fillna(0, inplace=True)\n",
      "C:\\Users\\MECHREVO\\AppData\\Local\\Temp\\ipykernel_891784\\3587734154.py:10: FutureWarning: Downcasting object dtype arrays on .fillna, .ffill, .bfill is deprecated and will change in a future version. Call result.infer_objects(copy=False) instead. To opt-in to the future behavior, set `pd.set_option('future.no_silent_downcasting', True)`\n",
      "  temp_df.fillna(0, inplace=True)\n",
      "C:\\Users\\MECHREVO\\AppData\\Local\\Temp\\ipykernel_891784\\3587734154.py:10: FutureWarning: Downcasting object dtype arrays on .fillna, .ffill, .bfill is deprecated and will change in a future version. Call result.infer_objects(copy=False) instead. To opt-in to the future behavior, set `pd.set_option('future.no_silent_downcasting', True)`\n",
      "  temp_df.fillna(0, inplace=True)\n",
      "C:\\Users\\MECHREVO\\AppData\\Local\\Temp\\ipykernel_891784\\3587734154.py:10: FutureWarning: Downcasting object dtype arrays on .fillna, .ffill, .bfill is deprecated and will change in a future version. Call result.infer_objects(copy=False) instead. To opt-in to the future behavior, set `pd.set_option('future.no_silent_downcasting', True)`\n",
      "  temp_df.fillna(0, inplace=True)\n",
      "C:\\Users\\MECHREVO\\AppData\\Local\\Temp\\ipykernel_891784\\3587734154.py:10: FutureWarning: Downcasting object dtype arrays on .fillna, .ffill, .bfill is deprecated and will change in a future version. Call result.infer_objects(copy=False) instead. To opt-in to the future behavior, set `pd.set_option('future.no_silent_downcasting', True)`\n",
      "  temp_df.fillna(0, inplace=True)\n",
      "C:\\Users\\MECHREVO\\AppData\\Local\\Temp\\ipykernel_891784\\3587734154.py:10: FutureWarning: Downcasting object dtype arrays on .fillna, .ffill, .bfill is deprecated and will change in a future version. Call result.infer_objects(copy=False) instead. To opt-in to the future behavior, set `pd.set_option('future.no_silent_downcasting', True)`\n",
      "  temp_df.fillna(0, inplace=True)\n",
      "C:\\Users\\MECHREVO\\AppData\\Local\\Temp\\ipykernel_891784\\3587734154.py:10: FutureWarning: Downcasting object dtype arrays on .fillna, .ffill, .bfill is deprecated and will change in a future version. Call result.infer_objects(copy=False) instead. To opt-in to the future behavior, set `pd.set_option('future.no_silent_downcasting', True)`\n",
      "  temp_df.fillna(0, inplace=True)\n",
      "C:\\Users\\MECHREVO\\AppData\\Local\\Temp\\ipykernel_891784\\3587734154.py:10: FutureWarning: Downcasting object dtype arrays on .fillna, .ffill, .bfill is deprecated and will change in a future version. Call result.infer_objects(copy=False) instead. To opt-in to the future behavior, set `pd.set_option('future.no_silent_downcasting', True)`\n",
      "  temp_df.fillna(0, inplace=True)\n",
      "C:\\Users\\MECHREVO\\AppData\\Local\\Temp\\ipykernel_891784\\3587734154.py:10: FutureWarning: Downcasting object dtype arrays on .fillna, .ffill, .bfill is deprecated and will change in a future version. Call result.infer_objects(copy=False) instead. To opt-in to the future behavior, set `pd.set_option('future.no_silent_downcasting', True)`\n",
      "  temp_df.fillna(0, inplace=True)\n",
      "C:\\Users\\MECHREVO\\AppData\\Local\\Temp\\ipykernel_891784\\3587734154.py:10: FutureWarning: Downcasting object dtype arrays on .fillna, .ffill, .bfill is deprecated and will change in a future version. Call result.infer_objects(copy=False) instead. To opt-in to the future behavior, set `pd.set_option('future.no_silent_downcasting', True)`\n",
      "  temp_df.fillna(0, inplace=True)\n",
      "C:\\Users\\MECHREVO\\AppData\\Local\\Temp\\ipykernel_891784\\3587734154.py:10: FutureWarning: Downcasting object dtype arrays on .fillna, .ffill, .bfill is deprecated and will change in a future version. Call result.infer_objects(copy=False) instead. To opt-in to the future behavior, set `pd.set_option('future.no_silent_downcasting', True)`\n",
      "  temp_df.fillna(0, inplace=True)\n",
      "C:\\Users\\MECHREVO\\AppData\\Local\\Temp\\ipykernel_891784\\3587734154.py:10: FutureWarning: Downcasting object dtype arrays on .fillna, .ffill, .bfill is deprecated and will change in a future version. Call result.infer_objects(copy=False) instead. To opt-in to the future behavior, set `pd.set_option('future.no_silent_downcasting', True)`\n",
      "  temp_df.fillna(0, inplace=True)\n",
      "C:\\Users\\MECHREVO\\AppData\\Local\\Temp\\ipykernel_891784\\3587734154.py:10: FutureWarning: Downcasting object dtype arrays on .fillna, .ffill, .bfill is deprecated and will change in a future version. Call result.infer_objects(copy=False) instead. To opt-in to the future behavior, set `pd.set_option('future.no_silent_downcasting', True)`\n",
      "  temp_df.fillna(0, inplace=True)\n",
      "C:\\Users\\MECHREVO\\AppData\\Local\\Temp\\ipykernel_891784\\3587734154.py:10: FutureWarning: Downcasting object dtype arrays on .fillna, .ffill, .bfill is deprecated and will change in a future version. Call result.infer_objects(copy=False) instead. To opt-in to the future behavior, set `pd.set_option('future.no_silent_downcasting', True)`\n",
      "  temp_df.fillna(0, inplace=True)\n",
      "C:\\Users\\MECHREVO\\AppData\\Local\\Temp\\ipykernel_891784\\3587734154.py:10: FutureWarning: Downcasting object dtype arrays on .fillna, .ffill, .bfill is deprecated and will change in a future version. Call result.infer_objects(copy=False) instead. To opt-in to the future behavior, set `pd.set_option('future.no_silent_downcasting', True)`\n",
      "  temp_df.fillna(0, inplace=True)\n",
      " 21%|██        | 18/87 [00:00<00:00, 172.28it/s]C:\\Users\\MECHREVO\\AppData\\Local\\Temp\\ipykernel_891784\\3587734154.py:10: FutureWarning: Downcasting object dtype arrays on .fillna, .ffill, .bfill is deprecated and will change in a future version. Call result.infer_objects(copy=False) instead. To opt-in to the future behavior, set `pd.set_option('future.no_silent_downcasting', True)`\n",
      "  temp_df.fillna(0, inplace=True)\n",
      "C:\\Users\\MECHREVO\\AppData\\Local\\Temp\\ipykernel_891784\\3587734154.py:10: FutureWarning: Downcasting object dtype arrays on .fillna, .ffill, .bfill is deprecated and will change in a future version. Call result.infer_objects(copy=False) instead. To opt-in to the future behavior, set `pd.set_option('future.no_silent_downcasting', True)`\n",
      "  temp_df.fillna(0, inplace=True)\n",
      "C:\\Users\\MECHREVO\\AppData\\Local\\Temp\\ipykernel_891784\\3587734154.py:10: FutureWarning: Downcasting object dtype arrays on .fillna, .ffill, .bfill is deprecated and will change in a future version. Call result.infer_objects(copy=False) instead. To opt-in to the future behavior, set `pd.set_option('future.no_silent_downcasting', True)`\n",
      "  temp_df.fillna(0, inplace=True)\n",
      "C:\\Users\\MECHREVO\\AppData\\Local\\Temp\\ipykernel_891784\\3587734154.py:10: FutureWarning: Downcasting object dtype arrays on .fillna, .ffill, .bfill is deprecated and will change in a future version. Call result.infer_objects(copy=False) instead. To opt-in to the future behavior, set `pd.set_option('future.no_silent_downcasting', True)`\n",
      "  temp_df.fillna(0, inplace=True)\n",
      "C:\\Users\\MECHREVO\\AppData\\Local\\Temp\\ipykernel_891784\\3587734154.py:10: FutureWarning: Downcasting object dtype arrays on .fillna, .ffill, .bfill is deprecated and will change in a future version. Call result.infer_objects(copy=False) instead. To opt-in to the future behavior, set `pd.set_option('future.no_silent_downcasting', True)`\n",
      "  temp_df.fillna(0, inplace=True)\n",
      "C:\\Users\\MECHREVO\\AppData\\Local\\Temp\\ipykernel_891784\\3587734154.py:10: FutureWarning: Downcasting object dtype arrays on .fillna, .ffill, .bfill is deprecated and will change in a future version. Call result.infer_objects(copy=False) instead. To opt-in to the future behavior, set `pd.set_option('future.no_silent_downcasting', True)`\n",
      "  temp_df.fillna(0, inplace=True)\n",
      "C:\\Users\\MECHREVO\\AppData\\Local\\Temp\\ipykernel_891784\\3587734154.py:10: FutureWarning: Downcasting object dtype arrays on .fillna, .ffill, .bfill is deprecated and will change in a future version. Call result.infer_objects(copy=False) instead. To opt-in to the future behavior, set `pd.set_option('future.no_silent_downcasting', True)`\n",
      "  temp_df.fillna(0, inplace=True)\n",
      "C:\\Users\\MECHREVO\\AppData\\Local\\Temp\\ipykernel_891784\\3587734154.py:10: FutureWarning: Downcasting object dtype arrays on .fillna, .ffill, .bfill is deprecated and will change in a future version. Call result.infer_objects(copy=False) instead. To opt-in to the future behavior, set `pd.set_option('future.no_silent_downcasting', True)`\n",
      "  temp_df.fillna(0, inplace=True)\n",
      "C:\\Users\\MECHREVO\\AppData\\Local\\Temp\\ipykernel_891784\\3587734154.py:10: FutureWarning: Downcasting object dtype arrays on .fillna, .ffill, .bfill is deprecated and will change in a future version. Call result.infer_objects(copy=False) instead. To opt-in to the future behavior, set `pd.set_option('future.no_silent_downcasting', True)`\n",
      "  temp_df.fillna(0, inplace=True)\n",
      "C:\\Users\\MECHREVO\\AppData\\Local\\Temp\\ipykernel_891784\\3587734154.py:10: FutureWarning: Downcasting object dtype arrays on .fillna, .ffill, .bfill is deprecated and will change in a future version. Call result.infer_objects(copy=False) instead. To opt-in to the future behavior, set `pd.set_option('future.no_silent_downcasting', True)`\n",
      "  temp_df.fillna(0, inplace=True)\n",
      "C:\\Users\\MECHREVO\\AppData\\Local\\Temp\\ipykernel_891784\\3587734154.py:10: FutureWarning: Downcasting object dtype arrays on .fillna, .ffill, .bfill is deprecated and will change in a future version. Call result.infer_objects(copy=False) instead. To opt-in to the future behavior, set `pd.set_option('future.no_silent_downcasting', True)`\n",
      "  temp_df.fillna(0, inplace=True)\n",
      "C:\\Users\\MECHREVO\\AppData\\Local\\Temp\\ipykernel_891784\\3587734154.py:10: FutureWarning: Downcasting object dtype arrays on .fillna, .ffill, .bfill is deprecated and will change in a future version. Call result.infer_objects(copy=False) instead. To opt-in to the future behavior, set `pd.set_option('future.no_silent_downcasting', True)`\n",
      "  temp_df.fillna(0, inplace=True)\n",
      "C:\\Users\\MECHREVO\\AppData\\Local\\Temp\\ipykernel_891784\\3587734154.py:10: FutureWarning: Downcasting object dtype arrays on .fillna, .ffill, .bfill is deprecated and will change in a future version. Call result.infer_objects(copy=False) instead. To opt-in to the future behavior, set `pd.set_option('future.no_silent_downcasting', True)`\n",
      "  temp_df.fillna(0, inplace=True)\n",
      "C:\\Users\\MECHREVO\\AppData\\Local\\Temp\\ipykernel_891784\\3587734154.py:10: FutureWarning: Downcasting object dtype arrays on .fillna, .ffill, .bfill is deprecated and will change in a future version. Call result.infer_objects(copy=False) instead. To opt-in to the future behavior, set `pd.set_option('future.no_silent_downcasting', True)`\n",
      "  temp_df.fillna(0, inplace=True)\n",
      "C:\\Users\\MECHREVO\\AppData\\Local\\Temp\\ipykernel_891784\\3587734154.py:10: FutureWarning: Downcasting object dtype arrays on .fillna, .ffill, .bfill is deprecated and will change in a future version. Call result.infer_objects(copy=False) instead. To opt-in to the future behavior, set `pd.set_option('future.no_silent_downcasting', True)`\n",
      "  temp_df.fillna(0, inplace=True)\n",
      "C:\\Users\\MECHREVO\\AppData\\Local\\Temp\\ipykernel_891784\\3587734154.py:10: FutureWarning: Downcasting object dtype arrays on .fillna, .ffill, .bfill is deprecated and will change in a future version. Call result.infer_objects(copy=False) instead. To opt-in to the future behavior, set `pd.set_option('future.no_silent_downcasting', True)`\n",
      "  temp_df.fillna(0, inplace=True)\n",
      "C:\\Users\\MECHREVO\\AppData\\Local\\Temp\\ipykernel_891784\\3587734154.py:10: FutureWarning: Downcasting object dtype arrays on .fillna, .ffill, .bfill is deprecated and will change in a future version. Call result.infer_objects(copy=False) instead. To opt-in to the future behavior, set `pd.set_option('future.no_silent_downcasting', True)`\n",
      "  temp_df.fillna(0, inplace=True)\n",
      "C:\\Users\\MECHREVO\\AppData\\Local\\Temp\\ipykernel_891784\\3587734154.py:10: FutureWarning: Downcasting object dtype arrays on .fillna, .ffill, .bfill is deprecated and will change in a future version. Call result.infer_objects(copy=False) instead. To opt-in to the future behavior, set `pd.set_option('future.no_silent_downcasting', True)`\n",
      "  temp_df.fillna(0, inplace=True)\n",
      "C:\\Users\\MECHREVO\\AppData\\Local\\Temp\\ipykernel_891784\\3587734154.py:10: FutureWarning: Downcasting object dtype arrays on .fillna, .ffill, .bfill is deprecated and will change in a future version. Call result.infer_objects(copy=False) instead. To opt-in to the future behavior, set `pd.set_option('future.no_silent_downcasting', True)`\n",
      "  temp_df.fillna(0, inplace=True)\n",
      "C:\\Users\\MECHREVO\\AppData\\Local\\Temp\\ipykernel_891784\\3587734154.py:10: FutureWarning: Downcasting object dtype arrays on .fillna, .ffill, .bfill is deprecated and will change in a future version. Call result.infer_objects(copy=False) instead. To opt-in to the future behavior, set `pd.set_option('future.no_silent_downcasting', True)`\n",
      "  temp_df.fillna(0, inplace=True)\n",
      " 44%|████▎     | 38/87 [00:00<00:00, 179.58it/s]C:\\Users\\MECHREVO\\AppData\\Local\\Temp\\ipykernel_891784\\3587734154.py:10: FutureWarning: Downcasting object dtype arrays on .fillna, .ffill, .bfill is deprecated and will change in a future version. Call result.infer_objects(copy=False) instead. To opt-in to the future behavior, set `pd.set_option('future.no_silent_downcasting', True)`\n",
      "  temp_df.fillna(0, inplace=True)\n",
      "C:\\Users\\MECHREVO\\AppData\\Local\\Temp\\ipykernel_891784\\3587734154.py:10: FutureWarning: Downcasting object dtype arrays on .fillna, .ffill, .bfill is deprecated and will change in a future version. Call result.infer_objects(copy=False) instead. To opt-in to the future behavior, set `pd.set_option('future.no_silent_downcasting', True)`\n",
      "  temp_df.fillna(0, inplace=True)\n",
      "C:\\Users\\MECHREVO\\AppData\\Local\\Temp\\ipykernel_891784\\3587734154.py:10: FutureWarning: Downcasting object dtype arrays on .fillna, .ffill, .bfill is deprecated and will change in a future version. Call result.infer_objects(copy=False) instead. To opt-in to the future behavior, set `pd.set_option('future.no_silent_downcasting', True)`\n",
      "  temp_df.fillna(0, inplace=True)\n",
      "C:\\Users\\MECHREVO\\AppData\\Local\\Temp\\ipykernel_891784\\3587734154.py:10: FutureWarning: Downcasting object dtype arrays on .fillna, .ffill, .bfill is deprecated and will change in a future version. Call result.infer_objects(copy=False) instead. To opt-in to the future behavior, set `pd.set_option('future.no_silent_downcasting', True)`\n",
      "  temp_df.fillna(0, inplace=True)\n",
      "C:\\Users\\MECHREVO\\AppData\\Local\\Temp\\ipykernel_891784\\3587734154.py:10: FutureWarning: Downcasting object dtype arrays on .fillna, .ffill, .bfill is deprecated and will change in a future version. Call result.infer_objects(copy=False) instead. To opt-in to the future behavior, set `pd.set_option('future.no_silent_downcasting', True)`\n",
      "  temp_df.fillna(0, inplace=True)\n",
      "C:\\Users\\MECHREVO\\AppData\\Local\\Temp\\ipykernel_891784\\3587734154.py:10: FutureWarning: Downcasting object dtype arrays on .fillna, .ffill, .bfill is deprecated and will change in a future version. Call result.infer_objects(copy=False) instead. To opt-in to the future behavior, set `pd.set_option('future.no_silent_downcasting', True)`\n",
      "  temp_df.fillna(0, inplace=True)\n",
      "C:\\Users\\MECHREVO\\AppData\\Local\\Temp\\ipykernel_891784\\3587734154.py:10: FutureWarning: Downcasting object dtype arrays on .fillna, .ffill, .bfill is deprecated and will change in a future version. Call result.infer_objects(copy=False) instead. To opt-in to the future behavior, set `pd.set_option('future.no_silent_downcasting', True)`\n",
      "  temp_df.fillna(0, inplace=True)\n",
      "C:\\Users\\MECHREVO\\AppData\\Local\\Temp\\ipykernel_891784\\3587734154.py:10: FutureWarning: Downcasting object dtype arrays on .fillna, .ffill, .bfill is deprecated and will change in a future version. Call result.infer_objects(copy=False) instead. To opt-in to the future behavior, set `pd.set_option('future.no_silent_downcasting', True)`\n",
      "  temp_df.fillna(0, inplace=True)\n",
      "C:\\Users\\MECHREVO\\AppData\\Local\\Temp\\ipykernel_891784\\3587734154.py:10: FutureWarning: Downcasting object dtype arrays on .fillna, .ffill, .bfill is deprecated and will change in a future version. Call result.infer_objects(copy=False) instead. To opt-in to the future behavior, set `pd.set_option('future.no_silent_downcasting', True)`\n",
      "  temp_df.fillna(0, inplace=True)\n",
      "C:\\Users\\MECHREVO\\AppData\\Local\\Temp\\ipykernel_891784\\3587734154.py:10: FutureWarning: Downcasting object dtype arrays on .fillna, .ffill, .bfill is deprecated and will change in a future version. Call result.infer_objects(copy=False) instead. To opt-in to the future behavior, set `pd.set_option('future.no_silent_downcasting', True)`\n",
      "  temp_df.fillna(0, inplace=True)\n",
      "C:\\Users\\MECHREVO\\AppData\\Local\\Temp\\ipykernel_891784\\3587734154.py:10: FutureWarning: Downcasting object dtype arrays on .fillna, .ffill, .bfill is deprecated and will change in a future version. Call result.infer_objects(copy=False) instead. To opt-in to the future behavior, set `pd.set_option('future.no_silent_downcasting', True)`\n",
      "  temp_df.fillna(0, inplace=True)\n",
      "C:\\Users\\MECHREVO\\AppData\\Local\\Temp\\ipykernel_891784\\3587734154.py:10: FutureWarning: Downcasting object dtype arrays on .fillna, .ffill, .bfill is deprecated and will change in a future version. Call result.infer_objects(copy=False) instead. To opt-in to the future behavior, set `pd.set_option('future.no_silent_downcasting', True)`\n",
      "  temp_df.fillna(0, inplace=True)\n",
      "C:\\Users\\MECHREVO\\AppData\\Local\\Temp\\ipykernel_891784\\3587734154.py:10: FutureWarning: Downcasting object dtype arrays on .fillna, .ffill, .bfill is deprecated and will change in a future version. Call result.infer_objects(copy=False) instead. To opt-in to the future behavior, set `pd.set_option('future.no_silent_downcasting', True)`\n",
      "  temp_df.fillna(0, inplace=True)\n",
      "C:\\Users\\MECHREVO\\AppData\\Local\\Temp\\ipykernel_891784\\3587734154.py:10: FutureWarning: Downcasting object dtype arrays on .fillna, .ffill, .bfill is deprecated and will change in a future version. Call result.infer_objects(copy=False) instead. To opt-in to the future behavior, set `pd.set_option('future.no_silent_downcasting', True)`\n",
      "  temp_df.fillna(0, inplace=True)\n",
      "C:\\Users\\MECHREVO\\AppData\\Local\\Temp\\ipykernel_891784\\3587734154.py:10: FutureWarning: Downcasting object dtype arrays on .fillna, .ffill, .bfill is deprecated and will change in a future version. Call result.infer_objects(copy=False) instead. To opt-in to the future behavior, set `pd.set_option('future.no_silent_downcasting', True)`\n",
      "  temp_df.fillna(0, inplace=True)\n",
      "C:\\Users\\MECHREVO\\AppData\\Local\\Temp\\ipykernel_891784\\3587734154.py:10: FutureWarning: Downcasting object dtype arrays on .fillna, .ffill, .bfill is deprecated and will change in a future version. Call result.infer_objects(copy=False) instead. To opt-in to the future behavior, set `pd.set_option('future.no_silent_downcasting', True)`\n",
      "  temp_df.fillna(0, inplace=True)\n",
      "C:\\Users\\MECHREVO\\AppData\\Local\\Temp\\ipykernel_891784\\3587734154.py:10: FutureWarning: Downcasting object dtype arrays on .fillna, .ffill, .bfill is deprecated and will change in a future version. Call result.infer_objects(copy=False) instead. To opt-in to the future behavior, set `pd.set_option('future.no_silent_downcasting', True)`\n",
      "  temp_df.fillna(0, inplace=True)\n",
      "C:\\Users\\MECHREVO\\AppData\\Local\\Temp\\ipykernel_891784\\3587734154.py:10: FutureWarning: Downcasting object dtype arrays on .fillna, .ffill, .bfill is deprecated and will change in a future version. Call result.infer_objects(copy=False) instead. To opt-in to the future behavior, set `pd.set_option('future.no_silent_downcasting', True)`\n",
      "  temp_df.fillna(0, inplace=True)\n",
      "C:\\Users\\MECHREVO\\AppData\\Local\\Temp\\ipykernel_891784\\3587734154.py:10: FutureWarning: Downcasting object dtype arrays on .fillna, .ffill, .bfill is deprecated and will change in a future version. Call result.infer_objects(copy=False) instead. To opt-in to the future behavior, set `pd.set_option('future.no_silent_downcasting', True)`\n",
      "  temp_df.fillna(0, inplace=True)\n",
      "C:\\Users\\MECHREVO\\AppData\\Local\\Temp\\ipykernel_891784\\3587734154.py:10: FutureWarning: Downcasting object dtype arrays on .fillna, .ffill, .bfill is deprecated and will change in a future version. Call result.infer_objects(copy=False) instead. To opt-in to the future behavior, set `pd.set_option('future.no_silent_downcasting', True)`\n",
      "  temp_df.fillna(0, inplace=True)\n",
      " 67%|██████▋   | 58/87 [00:00<00:00, 184.15it/s]C:\\Users\\MECHREVO\\AppData\\Local\\Temp\\ipykernel_891784\\3587734154.py:10: FutureWarning: Downcasting object dtype arrays on .fillna, .ffill, .bfill is deprecated and will change in a future version. Call result.infer_objects(copy=False) instead. To opt-in to the future behavior, set `pd.set_option('future.no_silent_downcasting', True)`\n",
      "  temp_df.fillna(0, inplace=True)\n",
      "C:\\Users\\MECHREVO\\AppData\\Local\\Temp\\ipykernel_891784\\3587734154.py:10: FutureWarning: Downcasting object dtype arrays on .fillna, .ffill, .bfill is deprecated and will change in a future version. Call result.infer_objects(copy=False) instead. To opt-in to the future behavior, set `pd.set_option('future.no_silent_downcasting', True)`\n",
      "  temp_df.fillna(0, inplace=True)\n",
      "C:\\Users\\MECHREVO\\AppData\\Local\\Temp\\ipykernel_891784\\3587734154.py:10: FutureWarning: Downcasting object dtype arrays on .fillna, .ffill, .bfill is deprecated and will change in a future version. Call result.infer_objects(copy=False) instead. To opt-in to the future behavior, set `pd.set_option('future.no_silent_downcasting', True)`\n",
      "  temp_df.fillna(0, inplace=True)\n",
      "C:\\Users\\MECHREVO\\AppData\\Local\\Temp\\ipykernel_891784\\3587734154.py:10: FutureWarning: Downcasting object dtype arrays on .fillna, .ffill, .bfill is deprecated and will change in a future version. Call result.infer_objects(copy=False) instead. To opt-in to the future behavior, set `pd.set_option('future.no_silent_downcasting', True)`\n",
      "  temp_df.fillna(0, inplace=True)\n",
      "C:\\Users\\MECHREVO\\AppData\\Local\\Temp\\ipykernel_891784\\3587734154.py:10: FutureWarning: Downcasting object dtype arrays on .fillna, .ffill, .bfill is deprecated and will change in a future version. Call result.infer_objects(copy=False) instead. To opt-in to the future behavior, set `pd.set_option('future.no_silent_downcasting', True)`\n",
      "  temp_df.fillna(0, inplace=True)\n",
      "C:\\Users\\MECHREVO\\AppData\\Local\\Temp\\ipykernel_891784\\3587734154.py:10: FutureWarning: Downcasting object dtype arrays on .fillna, .ffill, .bfill is deprecated and will change in a future version. Call result.infer_objects(copy=False) instead. To opt-in to the future behavior, set `pd.set_option('future.no_silent_downcasting', True)`\n",
      "  temp_df.fillna(0, inplace=True)\n",
      "C:\\Users\\MECHREVO\\AppData\\Local\\Temp\\ipykernel_891784\\3587734154.py:10: FutureWarning: Downcasting object dtype arrays on .fillna, .ffill, .bfill is deprecated and will change in a future version. Call result.infer_objects(copy=False) instead. To opt-in to the future behavior, set `pd.set_option('future.no_silent_downcasting', True)`\n",
      "  temp_df.fillna(0, inplace=True)\n",
      "C:\\Users\\MECHREVO\\AppData\\Local\\Temp\\ipykernel_891784\\3587734154.py:10: FutureWarning: Downcasting object dtype arrays on .fillna, .ffill, .bfill is deprecated and will change in a future version. Call result.infer_objects(copy=False) instead. To opt-in to the future behavior, set `pd.set_option('future.no_silent_downcasting', True)`\n",
      "  temp_df.fillna(0, inplace=True)\n",
      "C:\\Users\\MECHREVO\\AppData\\Local\\Temp\\ipykernel_891784\\3587734154.py:10: FutureWarning: Downcasting object dtype arrays on .fillna, .ffill, .bfill is deprecated and will change in a future version. Call result.infer_objects(copy=False) instead. To opt-in to the future behavior, set `pd.set_option('future.no_silent_downcasting', True)`\n",
      "  temp_df.fillna(0, inplace=True)\n",
      "C:\\Users\\MECHREVO\\AppData\\Local\\Temp\\ipykernel_891784\\3587734154.py:10: FutureWarning: Downcasting object dtype arrays on .fillna, .ffill, .bfill is deprecated and will change in a future version. Call result.infer_objects(copy=False) instead. To opt-in to the future behavior, set `pd.set_option('future.no_silent_downcasting', True)`\n",
      "  temp_df.fillna(0, inplace=True)\n",
      "C:\\Users\\MECHREVO\\AppData\\Local\\Temp\\ipykernel_891784\\3587734154.py:10: FutureWarning: Downcasting object dtype arrays on .fillna, .ffill, .bfill is deprecated and will change in a future version. Call result.infer_objects(copy=False) instead. To opt-in to the future behavior, set `pd.set_option('future.no_silent_downcasting', True)`\n",
      "  temp_df.fillna(0, inplace=True)\n",
      "C:\\Users\\MECHREVO\\AppData\\Local\\Temp\\ipykernel_891784\\3587734154.py:10: FutureWarning: Downcasting object dtype arrays on .fillna, .ffill, .bfill is deprecated and will change in a future version. Call result.infer_objects(copy=False) instead. To opt-in to the future behavior, set `pd.set_option('future.no_silent_downcasting', True)`\n",
      "  temp_df.fillna(0, inplace=True)\n",
      "C:\\Users\\MECHREVO\\AppData\\Local\\Temp\\ipykernel_891784\\3587734154.py:10: FutureWarning: Downcasting object dtype arrays on .fillna, .ffill, .bfill is deprecated and will change in a future version. Call result.infer_objects(copy=False) instead. To opt-in to the future behavior, set `pd.set_option('future.no_silent_downcasting', True)`\n",
      "  temp_df.fillna(0, inplace=True)\n",
      "C:\\Users\\MECHREVO\\AppData\\Local\\Temp\\ipykernel_891784\\3587734154.py:10: FutureWarning: Downcasting object dtype arrays on .fillna, .ffill, .bfill is deprecated and will change in a future version. Call result.infer_objects(copy=False) instead. To opt-in to the future behavior, set `pd.set_option('future.no_silent_downcasting', True)`\n",
      "  temp_df.fillna(0, inplace=True)\n",
      "C:\\Users\\MECHREVO\\AppData\\Local\\Temp\\ipykernel_891784\\3587734154.py:10: FutureWarning: Downcasting object dtype arrays on .fillna, .ffill, .bfill is deprecated and will change in a future version. Call result.infer_objects(copy=False) instead. To opt-in to the future behavior, set `pd.set_option('future.no_silent_downcasting', True)`\n",
      "  temp_df.fillna(0, inplace=True)\n",
      "C:\\Users\\MECHREVO\\AppData\\Local\\Temp\\ipykernel_891784\\3587734154.py:10: FutureWarning: Downcasting object dtype arrays on .fillna, .ffill, .bfill is deprecated and will change in a future version. Call result.infer_objects(copy=False) instead. To opt-in to the future behavior, set `pd.set_option('future.no_silent_downcasting', True)`\n",
      "  temp_df.fillna(0, inplace=True)\n",
      "C:\\Users\\MECHREVO\\AppData\\Local\\Temp\\ipykernel_891784\\3587734154.py:10: FutureWarning: Downcasting object dtype arrays on .fillna, .ffill, .bfill is deprecated and will change in a future version. Call result.infer_objects(copy=False) instead. To opt-in to the future behavior, set `pd.set_option('future.no_silent_downcasting', True)`\n",
      "  temp_df.fillna(0, inplace=True)\n",
      "C:\\Users\\MECHREVO\\AppData\\Local\\Temp\\ipykernel_891784\\3587734154.py:10: FutureWarning: Downcasting object dtype arrays on .fillna, .ffill, .bfill is deprecated and will change in a future version. Call result.infer_objects(copy=False) instead. To opt-in to the future behavior, set `pd.set_option('future.no_silent_downcasting', True)`\n",
      "  temp_df.fillna(0, inplace=True)\n",
      "C:\\Users\\MECHREVO\\AppData\\Local\\Temp\\ipykernel_891784\\3587734154.py:10: FutureWarning: Downcasting object dtype arrays on .fillna, .ffill, .bfill is deprecated and will change in a future version. Call result.infer_objects(copy=False) instead. To opt-in to the future behavior, set `pd.set_option('future.no_silent_downcasting', True)`\n",
      "  temp_df.fillna(0, inplace=True)\n",
      "C:\\Users\\MECHREVO\\AppData\\Local\\Temp\\ipykernel_891784\\3587734154.py:10: FutureWarning: Downcasting object dtype arrays on .fillna, .ffill, .bfill is deprecated and will change in a future version. Call result.infer_objects(copy=False) instead. To opt-in to the future behavior, set `pd.set_option('future.no_silent_downcasting', True)`\n",
      "  temp_df.fillna(0, inplace=True)\n",
      " 90%|████████▉ | 78/87 [00:00<00:00, 186.15it/s]C:\\Users\\MECHREVO\\AppData\\Local\\Temp\\ipykernel_891784\\3587734154.py:10: FutureWarning: Downcasting object dtype arrays on .fillna, .ffill, .bfill is deprecated and will change in a future version. Call result.infer_objects(copy=False) instead. To opt-in to the future behavior, set `pd.set_option('future.no_silent_downcasting', True)`\n",
      "  temp_df.fillna(0, inplace=True)\n",
      "C:\\Users\\MECHREVO\\AppData\\Local\\Temp\\ipykernel_891784\\3587734154.py:10: FutureWarning: Downcasting object dtype arrays on .fillna, .ffill, .bfill is deprecated and will change in a future version. Call result.infer_objects(copy=False) instead. To opt-in to the future behavior, set `pd.set_option('future.no_silent_downcasting', True)`\n",
      "  temp_df.fillna(0, inplace=True)\n",
      "C:\\Users\\MECHREVO\\AppData\\Local\\Temp\\ipykernel_891784\\3587734154.py:10: FutureWarning: Downcasting object dtype arrays on .fillna, .ffill, .bfill is deprecated and will change in a future version. Call result.infer_objects(copy=False) instead. To opt-in to the future behavior, set `pd.set_option('future.no_silent_downcasting', True)`\n",
      "  temp_df.fillna(0, inplace=True)\n",
      "C:\\Users\\MECHREVO\\AppData\\Local\\Temp\\ipykernel_891784\\3587734154.py:10: FutureWarning: Downcasting object dtype arrays on .fillna, .ffill, .bfill is deprecated and will change in a future version. Call result.infer_objects(copy=False) instead. To opt-in to the future behavior, set `pd.set_option('future.no_silent_downcasting', True)`\n",
      "  temp_df.fillna(0, inplace=True)\n",
      "C:\\Users\\MECHREVO\\AppData\\Local\\Temp\\ipykernel_891784\\3587734154.py:10: FutureWarning: Downcasting object dtype arrays on .fillna, .ffill, .bfill is deprecated and will change in a future version. Call result.infer_objects(copy=False) instead. To opt-in to the future behavior, set `pd.set_option('future.no_silent_downcasting', True)`\n",
      "  temp_df.fillna(0, inplace=True)\n",
      "C:\\Users\\MECHREVO\\AppData\\Local\\Temp\\ipykernel_891784\\3587734154.py:10: FutureWarning: Downcasting object dtype arrays on .fillna, .ffill, .bfill is deprecated and will change in a future version. Call result.infer_objects(copy=False) instead. To opt-in to the future behavior, set `pd.set_option('future.no_silent_downcasting', True)`\n",
      "  temp_df.fillna(0, inplace=True)\n",
      "C:\\Users\\MECHREVO\\AppData\\Local\\Temp\\ipykernel_891784\\3587734154.py:10: FutureWarning: Downcasting object dtype arrays on .fillna, .ffill, .bfill is deprecated and will change in a future version. Call result.infer_objects(copy=False) instead. To opt-in to the future behavior, set `pd.set_option('future.no_silent_downcasting', True)`\n",
      "  temp_df.fillna(0, inplace=True)\n",
      "C:\\Users\\MECHREVO\\AppData\\Local\\Temp\\ipykernel_891784\\3587734154.py:10: FutureWarning: Downcasting object dtype arrays on .fillna, .ffill, .bfill is deprecated and will change in a future version. Call result.infer_objects(copy=False) instead. To opt-in to the future behavior, set `pd.set_option('future.no_silent_downcasting', True)`\n",
      "  temp_df.fillna(0, inplace=True)\n",
      "C:\\Users\\MECHREVO\\AppData\\Local\\Temp\\ipykernel_891784\\3587734154.py:10: FutureWarning: Downcasting object dtype arrays on .fillna, .ffill, .bfill is deprecated and will change in a future version. Call result.infer_objects(copy=False) instead. To opt-in to the future behavior, set `pd.set_option('future.no_silent_downcasting', True)`\n",
      "  temp_df.fillna(0, inplace=True)\n",
      "100%|██████████| 87/87 [00:00<00:00, 181.00it/s]\n"
     ]
    },
    {
     "data": {
      "text/plain": [
       "(87, 731, 3)"
      ]
     },
     "execution_count": 36,
     "metadata": {},
     "output_type": "execute_result"
    }
   ],
   "execution_count": 36
  },
  {
   "cell_type": "code",
   "metadata": {
    "ExecuteTime": {
     "end_time": "2025-07-19T22:45:52.614864Z",
     "start_time": "2025-07-19T22:45:52.601448Z"
    }
   },
   "source": [
    "np.save('all_timeseries.npy', all_timeseries)"
   ],
   "outputs": [],
   "execution_count": 37
  },
  {
   "cell_type": "code",
   "execution_count": null,
   "metadata": {},
   "outputs": [],
   "source": []
  }
 ],
 "metadata": {
  "kernelspec": {
   "display_name": "Python 3 (ipykernel)",
   "language": "python",
   "name": "python3"
  },
  "language_info": {
   "codemirror_mode": {
    "name": "ipython",
    "version": 3
   },
   "file_extension": ".py",
   "mimetype": "text/x-python",
   "name": "python",
   "nbconvert_exporter": "python",
   "pygments_lexer": "ipython3",
   "version": "3.10.11"
  }
 },
 "nbformat": 4,
 "nbformat_minor": 4
}
